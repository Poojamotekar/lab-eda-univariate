{
 "cells": [
  {
   "cell_type": "code",
   "execution_count": 2,
   "id": "85a95603-d8eb-4959-b8a6-a5fc1104ce72",
   "metadata": {},
   "outputs": [],
   "source": [
    "import pandas as pd\n",
    "import matplotlib.pyplot as plt\n",
    "import seaborn as sns\n",
    "import numpy as np\n",
    "\n",
    "%matplotlib inline\n",
    "pd.set_option('display.max_columns', None)"
   ]
  },
  {
   "cell_type": "code",
   "execution_count": 3,
   "id": "6fbeed49-bd1a-44e4-abf8-c17ebaed8185",
   "metadata": {},
   "outputs": [],
   "source": [
    "# Loading the housing price dataset (assuming the file name is \"housing_price.csv\")\n",
    "#df = pd.read_csv(\"https://raw.githubusercontent.com/data-bootcamp-v4/data/main/housing_price_eda.csv\")\n",
    "df=pd.read_csv(\"dataset.csv\")"
   ]
  },
  {
   "cell_type": "code",
   "execution_count": 4,
   "id": "f6949403-1c0b-4b1d-8118-2499870afa45",
   "metadata": {},
   "outputs": [
    {
     "data": {
      "text/html": [
       "<div>\n",
       "<style scoped>\n",
       "    .dataframe tbody tr th:only-of-type {\n",
       "        vertical-align: middle;\n",
       "    }\n",
       "\n",
       "    .dataframe tbody tr th {\n",
       "        vertical-align: top;\n",
       "    }\n",
       "\n",
       "    .dataframe thead th {\n",
       "        text-align: right;\n",
       "    }\n",
       "</style>\n",
       "<table border=\"1\" class=\"dataframe\">\n",
       "  <thead>\n",
       "    <tr style=\"text-align: right;\">\n",
       "      <th></th>\n",
       "      <th>uid</th>\n",
       "      <th>asin</th>\n",
       "      <th>title</th>\n",
       "      <th>stars</th>\n",
       "      <th>reviews</th>\n",
       "      <th>price</th>\n",
       "      <th>isBestSeller</th>\n",
       "      <th>boughtInLastMonth</th>\n",
       "      <th>category</th>\n",
       "    </tr>\n",
       "  </thead>\n",
       "  <tbody>\n",
       "    <tr>\n",
       "      <th>0</th>\n",
       "      <td>1</td>\n",
       "      <td>B09B96TG33</td>\n",
       "      <td>Echo Dot (5th generation, 2022 release) | Big ...</td>\n",
       "      <td>4.7</td>\n",
       "      <td>15308</td>\n",
       "      <td>21.99</td>\n",
       "      <td>False</td>\n",
       "      <td>0</td>\n",
       "      <td>Hi-Fi Speakers</td>\n",
       "    </tr>\n",
       "    <tr>\n",
       "      <th>1</th>\n",
       "      <td>2</td>\n",
       "      <td>B01HTH3C8S</td>\n",
       "      <td>Anker Soundcore mini, Super-Portable Bluetooth...</td>\n",
       "      <td>4.7</td>\n",
       "      <td>98099</td>\n",
       "      <td>23.99</td>\n",
       "      <td>True</td>\n",
       "      <td>0</td>\n",
       "      <td>Hi-Fi Speakers</td>\n",
       "    </tr>\n",
       "    <tr>\n",
       "      <th>2</th>\n",
       "      <td>3</td>\n",
       "      <td>B09B8YWXDF</td>\n",
       "      <td>Echo Dot (5th generation, 2022 release) | Big ...</td>\n",
       "      <td>4.7</td>\n",
       "      <td>15308</td>\n",
       "      <td>21.99</td>\n",
       "      <td>False</td>\n",
       "      <td>0</td>\n",
       "      <td>Hi-Fi Speakers</td>\n",
       "    </tr>\n",
       "    <tr>\n",
       "      <th>3</th>\n",
       "      <td>4</td>\n",
       "      <td>B09B8T5VGV</td>\n",
       "      <td>Echo Dot with clock (5th generation, 2022 rele...</td>\n",
       "      <td>4.7</td>\n",
       "      <td>7205</td>\n",
       "      <td>31.99</td>\n",
       "      <td>False</td>\n",
       "      <td>0</td>\n",
       "      <td>Hi-Fi Speakers</td>\n",
       "    </tr>\n",
       "    <tr>\n",
       "      <th>4</th>\n",
       "      <td>5</td>\n",
       "      <td>B09WX6QD65</td>\n",
       "      <td>Introducing Echo Pop | Full sound compact Wi-F...</td>\n",
       "      <td>4.6</td>\n",
       "      <td>1881</td>\n",
       "      <td>17.99</td>\n",
       "      <td>False</td>\n",
       "      <td>0</td>\n",
       "      <td>Hi-Fi Speakers</td>\n",
       "    </tr>\n",
       "  </tbody>\n",
       "</table>\n",
       "</div>"
      ],
      "text/plain": [
       "   uid        asin                                              title  stars  \\\n",
       "0    1  B09B96TG33  Echo Dot (5th generation, 2022 release) | Big ...    4.7   \n",
       "1    2  B01HTH3C8S  Anker Soundcore mini, Super-Portable Bluetooth...    4.7   \n",
       "2    3  B09B8YWXDF  Echo Dot (5th generation, 2022 release) | Big ...    4.7   \n",
       "3    4  B09B8T5VGV  Echo Dot with clock (5th generation, 2022 rele...    4.7   \n",
       "4    5  B09WX6QD65  Introducing Echo Pop | Full sound compact Wi-F...    4.6   \n",
       "\n",
       "   reviews  price  isBestSeller  boughtInLastMonth        category  \n",
       "0    15308  21.99         False                  0  Hi-Fi Speakers  \n",
       "1    98099  23.99          True                  0  Hi-Fi Speakers  \n",
       "2    15308  21.99         False                  0  Hi-Fi Speakers  \n",
       "3     7205  31.99         False                  0  Hi-Fi Speakers  \n",
       "4     1881  17.99         False                  0  Hi-Fi Speakers  "
      ]
     },
     "execution_count": 4,
     "metadata": {},
     "output_type": "execute_result"
    }
   ],
   "source": [
    "df.head()"
   ]
  },
  {
   "cell_type": "code",
   "execution_count": 5,
   "id": "c1411efe-d1c1-4b96-a0ba-1a79449299ba",
   "metadata": {},
   "outputs": [
    {
     "name": "stdout",
     "output_type": "stream",
     "text": [
      "<class 'pandas.core.frame.DataFrame'>\n",
      "RangeIndex: 1048575 entries, 0 to 1048574\n",
      "Data columns (total 9 columns):\n",
      " #   Column             Non-Null Count    Dtype  \n",
      "---  ------             --------------    -----  \n",
      " 0   uid                1048575 non-null  int64  \n",
      " 1   asin               1048575 non-null  object \n",
      " 2   title              1048575 non-null  object \n",
      " 3   stars              1048575 non-null  float64\n",
      " 4   reviews            1048575 non-null  int64  \n",
      " 5   price              1048575 non-null  float64\n",
      " 6   isBestSeller       1048575 non-null  bool   \n",
      " 7   boughtInLastMonth  1048575 non-null  int64  \n",
      " 8   category           1048575 non-null  object \n",
      "dtypes: bool(1), float64(2), int64(3), object(3)\n",
      "memory usage: 65.0+ MB\n"
     ]
    }
   ],
   "source": [
    "df.info()"
   ]
  },
  {
   "cell_type": "code",
   "execution_count": 6,
   "id": "f940cc87-01bf-44f8-a109-37f7248daa3f",
   "metadata": {},
   "outputs": [
    {
     "data": {
      "text/plain": [
       "uid                  0\n",
       "asin                 0\n",
       "title                0\n",
       "stars                0\n",
       "reviews              0\n",
       "price                0\n",
       "isBestSeller         0\n",
       "boughtInLastMonth    0\n",
       "category             0\n",
       "dtype: int64"
      ]
     },
     "execution_count": 6,
     "metadata": {},
     "output_type": "execute_result"
    }
   ],
   "source": [
    "df.isnull().sum()"
   ]
  },
  {
   "cell_type": "code",
   "execution_count": 7,
   "id": "49a4280f-ba58-470f-845b-ee651e1c4b21",
   "metadata": {},
   "outputs": [
    {
     "data": {
      "text/plain": [
       "uid                    int64\n",
       "asin                  object\n",
       "title                 object\n",
       "stars                float64\n",
       "reviews                int64\n",
       "price                float64\n",
       "isBestSeller            bool\n",
       "boughtInLastMonth      int64\n",
       "category              object\n",
       "dtype: object"
      ]
     },
     "execution_count": 7,
     "metadata": {},
     "output_type": "execute_result"
    }
   ],
   "source": [
    "df.dtypes"
   ]
  },
  {
   "cell_type": "code",
   "execution_count": 8,
   "id": "88b8ff37-dbfa-4a19-986b-f7da6ac56206",
   "metadata": {},
   "outputs": [
    {
     "data": {
      "text/html": [
       "<div>\n",
       "<style scoped>\n",
       "    .dataframe tbody tr th:only-of-type {\n",
       "        vertical-align: middle;\n",
       "    }\n",
       "\n",
       "    .dataframe tbody tr th {\n",
       "        vertical-align: top;\n",
       "    }\n",
       "\n",
       "    .dataframe thead th {\n",
       "        text-align: right;\n",
       "    }\n",
       "</style>\n",
       "<table border=\"1\" class=\"dataframe\">\n",
       "  <thead>\n",
       "    <tr style=\"text-align: right;\">\n",
       "      <th></th>\n",
       "      <th>uid</th>\n",
       "      <th>asin</th>\n",
       "      <th>title</th>\n",
       "      <th>stars</th>\n",
       "      <th>reviews</th>\n",
       "      <th>price</th>\n",
       "      <th>isBestSeller</th>\n",
       "      <th>boughtInLastMonth</th>\n",
       "      <th>category</th>\n",
       "    </tr>\n",
       "  </thead>\n",
       "  <tbody>\n",
       "    <tr>\n",
       "      <th>863474</th>\n",
       "      <td>940260</td>\n",
       "      <td>B0CD6FTZFP</td>\n",
       "      <td>HD Laptop Monitor, Eye Care Refresh Rate 144Hz...</td>\n",
       "      <td>0.0</td>\n",
       "      <td>0</td>\n",
       "      <td>238.59</td>\n",
       "      <td>False</td>\n",
       "      <td>0</td>\n",
       "      <td>Monitors</td>\n",
       "    </tr>\n",
       "    <tr>\n",
       "      <th>758716</th>\n",
       "      <td>819002</td>\n",
       "      <td>B0BKQBP9BH</td>\n",
       "      <td>20”,24”,26”,27.5”,28”,29”,700c Inch E-Bike Con...</td>\n",
       "      <td>0.0</td>\n",
       "      <td>0</td>\n",
       "      <td>438.41</td>\n",
       "      <td>False</td>\n",
       "      <td>0</td>\n",
       "      <td>Sports &amp; Outdoors</td>\n",
       "    </tr>\n",
       "    <tr>\n",
       "      <th>241260</th>\n",
       "      <td>257412</td>\n",
       "      <td>B09Q8RPVB4</td>\n",
       "      <td>Bird Feeder House, Hanging Bird Feeder Table F...</td>\n",
       "      <td>1.6</td>\n",
       "      <td>6</td>\n",
       "      <td>14.39</td>\n",
       "      <td>False</td>\n",
       "      <td>0</td>\n",
       "      <td>Bird &amp; Wildlife Care</td>\n",
       "    </tr>\n",
       "    <tr>\n",
       "      <th>306958</th>\n",
       "      <td>325154</td>\n",
       "      <td>B0064BPHD4</td>\n",
       "      <td>Gaugemaster PM-1 Seep Point Motor with Built-I...</td>\n",
       "      <td>4.5</td>\n",
       "      <td>207</td>\n",
       "      <td>7.25</td>\n",
       "      <td>False</td>\n",
       "      <td>0</td>\n",
       "      <td>Hobbies</td>\n",
       "    </tr>\n",
       "    <tr>\n",
       "      <th>855550</th>\n",
       "      <td>931557</td>\n",
       "      <td>B0BZL332KV</td>\n",
       "      <td>2Pcs Inflatable Armbands, Jagowa Roll Up Swimm...</td>\n",
       "      <td>4.6</td>\n",
       "      <td>5</td>\n",
       "      <td>5.49</td>\n",
       "      <td>False</td>\n",
       "      <td>0</td>\n",
       "      <td>Sports Toys &amp; Outdoor</td>\n",
       "    </tr>\n",
       "    <tr>\n",
       "      <th>881738</th>\n",
       "      <td>959347</td>\n",
       "      <td>B0925HJMH3</td>\n",
       "      <td>ASEKER Compatible Toner Cartridge for Xerox Ph...</td>\n",
       "      <td>3.6</td>\n",
       "      <td>28</td>\n",
       "      <td>29.80</td>\n",
       "      <td>False</td>\n",
       "      <td>0</td>\n",
       "      <td>Printers &amp; Accessories</td>\n",
       "    </tr>\n",
       "    <tr>\n",
       "      <th>830554</th>\n",
       "      <td>905690</td>\n",
       "      <td>B0C5JXTZXV</td>\n",
       "      <td>Girls Girls Girls - Fancy A Night In? - Hen Pa...</td>\n",
       "      <td>4.2</td>\n",
       "      <td>9</td>\n",
       "      <td>7.99</td>\n",
       "      <td>False</td>\n",
       "      <td>50</td>\n",
       "      <td>Games &amp; Game Accessories</td>\n",
       "    </tr>\n",
       "    <tr>\n",
       "      <th>640682</th>\n",
       "      <td>689377</td>\n",
       "      <td>B09L6BK3X7</td>\n",
       "      <td>Classic French Red &amp; White Wine Gift Box, 2 x ...</td>\n",
       "      <td>0.0</td>\n",
       "      <td>0</td>\n",
       "      <td>36.00</td>\n",
       "      <td>False</td>\n",
       "      <td>0</td>\n",
       "      <td>Beer, Wine &amp; Spirits</td>\n",
       "    </tr>\n",
       "    <tr>\n",
       "      <th>363020</th>\n",
       "      <td>387893</td>\n",
       "      <td>B0C597GT34</td>\n",
       "      <td>Sport Heavy Duty Free Standing Boxing Punch Ba...</td>\n",
       "      <td>3.6</td>\n",
       "      <td>12</td>\n",
       "      <td>13.00</td>\n",
       "      <td>False</td>\n",
       "      <td>0</td>\n",
       "      <td>Sports &amp; Outdoors</td>\n",
       "    </tr>\n",
       "    <tr>\n",
       "      <th>892612</th>\n",
       "      <td>971508</td>\n",
       "      <td>B0CJ5MJNRB</td>\n",
       "      <td>2024 Men's Ice Silk Quick Drying Clothes Men's...</td>\n",
       "      <td>0.0</td>\n",
       "      <td>0</td>\n",
       "      <td>2.81</td>\n",
       "      <td>False</td>\n",
       "      <td>0</td>\n",
       "      <td>Sports &amp; Outdoors</td>\n",
       "    </tr>\n",
       "  </tbody>\n",
       "</table>\n",
       "</div>"
      ],
      "text/plain": [
       "           uid        asin                                              title  \\\n",
       "863474  940260  B0CD6FTZFP  HD Laptop Monitor, Eye Care Refresh Rate 144Hz...   \n",
       "758716  819002  B0BKQBP9BH  20”,24”,26”,27.5”,28”,29”,700c Inch E-Bike Con...   \n",
       "241260  257412  B09Q8RPVB4  Bird Feeder House, Hanging Bird Feeder Table F...   \n",
       "306958  325154  B0064BPHD4  Gaugemaster PM-1 Seep Point Motor with Built-I...   \n",
       "855550  931557  B0BZL332KV  2Pcs Inflatable Armbands, Jagowa Roll Up Swimm...   \n",
       "881738  959347  B0925HJMH3  ASEKER Compatible Toner Cartridge for Xerox Ph...   \n",
       "830554  905690  B0C5JXTZXV  Girls Girls Girls - Fancy A Night In? - Hen Pa...   \n",
       "640682  689377  B09L6BK3X7  Classic French Red & White Wine Gift Box, 2 x ...   \n",
       "363020  387893  B0C597GT34  Sport Heavy Duty Free Standing Boxing Punch Ba...   \n",
       "892612  971508  B0CJ5MJNRB  2024 Men's Ice Silk Quick Drying Clothes Men's...   \n",
       "\n",
       "        stars  reviews   price  isBestSeller  boughtInLastMonth  \\\n",
       "863474    0.0        0  238.59         False                  0   \n",
       "758716    0.0        0  438.41         False                  0   \n",
       "241260    1.6        6   14.39         False                  0   \n",
       "306958    4.5      207    7.25         False                  0   \n",
       "855550    4.6        5    5.49         False                  0   \n",
       "881738    3.6       28   29.80         False                  0   \n",
       "830554    4.2        9    7.99         False                 50   \n",
       "640682    0.0        0   36.00         False                  0   \n",
       "363020    3.6       12   13.00         False                  0   \n",
       "892612    0.0        0    2.81         False                  0   \n",
       "\n",
       "                        category  \n",
       "863474                  Monitors  \n",
       "758716         Sports & Outdoors  \n",
       "241260      Bird & Wildlife Care  \n",
       "306958                   Hobbies  \n",
       "855550     Sports Toys & Outdoor  \n",
       "881738    Printers & Accessories  \n",
       "830554  Games & Game Accessories  \n",
       "640682      Beer, Wine & Spirits  \n",
       "363020         Sports & Outdoors  \n",
       "892612         Sports & Outdoors  "
      ]
     },
     "execution_count": 8,
     "metadata": {},
     "output_type": "execute_result"
    }
   ],
   "source": [
    "df.sample(10)"
   ]
  },
  {
   "cell_type": "markdown",
   "id": "9274215a-ce8c-490e-8244-b923df43ac04",
   "metadata": {},
   "source": [
    "### Exploring numerical and categorical variables"
   ]
  },
  {
   "cell_type": "code",
   "execution_count": 9,
   "id": "310bb77f-7f59-4dcd-867e-f98cc5fc62d9",
   "metadata": {},
   "outputs": [],
   "source": [
    "num=df.select_dtypes(include=\"number\")\n",
    "cat=df.select_dtypes(exclude=\"number\")"
   ]
  },
  {
   "cell_type": "code",
   "execution_count": 10,
   "id": "4fa7ae9b-b4ec-4aab-b87d-3e38b93e7b58",
   "metadata": {},
   "outputs": [
    {
     "data": {
      "text/plain": [
       "uid                  1048575\n",
       "price                  50386\n",
       "reviews                12171\n",
       "stars                     41\n",
       "boughtInLastMonth         24\n",
       "dtype: int64"
      ]
     },
     "execution_count": 10,
     "metadata": {},
     "output_type": "execute_result"
    }
   ],
   "source": [
    "num.nunique().sort_values(ascending=False)"
   ]
  },
  {
   "cell_type": "code",
   "execution_count": 11,
   "id": "d4d6cf17-1656-4a97-9f63-76ff957e6193",
   "metadata": {},
   "outputs": [],
   "source": [
    "#potential_categorical_from_numerical = df.select_dtypes(\"number\").loc[:, df.select_dtypes(\"number\").nunique() < 20]\n",
    "#potential_categorical_from_numerical"
   ]
  },
  {
   "cell_type": "code",
   "execution_count": 12,
   "id": "549efa41-a041-4dc4-8b07-67903bd8c207",
   "metadata": {},
   "outputs": [
    {
     "data": {
      "text/plain": [
       "uid                  0\n",
       "asin                 0\n",
       "title                0\n",
       "stars                0\n",
       "reviews              0\n",
       "price                0\n",
       "isBestSeller         0\n",
       "boughtInLastMonth    0\n",
       "category             0\n",
       "dtype: int64"
      ]
     },
     "execution_count": 12,
     "metadata": {},
     "output_type": "execute_result"
    }
   ],
   "source": [
    "df.isnull().sum().sort_values(ascending=False)"
   ]
  },
  {
   "cell_type": "code",
   "execution_count": 13,
   "id": "df317784-901b-421e-b674-0a91b8458e08",
   "metadata": {},
   "outputs": [
    {
     "data": {
      "text/plain": [
       "price\n",
       "9.99      20406\n",
       "12.99     17054\n",
       "14.99     14905\n",
       "8.99      14018\n",
       "7.99      13477\n",
       "          ...  \n",
       "194.83        1\n",
       "786.29        1\n",
       "212.90        1\n",
       "353.31        1\n",
       "149.29        1\n",
       "Name: count, Length: 50386, dtype: int64"
      ]
     },
     "execution_count": 13,
     "metadata": {},
     "output_type": "execute_result"
    }
   ],
   "source": [
    "df.price.value_counts() # or df['PoolQC'] to select column"
   ]
  },
  {
   "cell_type": "code",
   "execution_count": 14,
   "id": "80a50f70-784b-4dd8-a795-651cf9c64d11",
   "metadata": {},
   "outputs": [
    {
     "data": {
      "text/plain": [
       "0"
      ]
     },
     "execution_count": 14,
     "metadata": {},
     "output_type": "execute_result"
    }
   ],
   "source": [
    "df.duplicated().sum()"
   ]
  },
  {
   "cell_type": "code",
   "execution_count": 15,
   "id": "8a589035-6409-4503-9207-4e375575cc3e",
   "metadata": {},
   "outputs": [
    {
     "data": {
      "text/plain": [
       "uid                  0\n",
       "asin                 0\n",
       "title                0\n",
       "stars                0\n",
       "reviews              0\n",
       "price                0\n",
       "isBestSeller         0\n",
       "boughtInLastMonth    0\n",
       "category             0\n",
       "dtype: int64"
      ]
     },
     "execution_count": 15,
     "metadata": {},
     "output_type": "execute_result"
    }
   ],
   "source": [
    "df.eq(' ').sum().sort_values(ascending=False)"
   ]
  },
  {
   "cell_type": "markdown",
   "id": "f7d29fc0-e899-4184-864c-5e354bb04b52",
   "metadata": {},
   "source": [
    "### Part 1: Understanding Product Categories\n",
    "### Business Question: What are the most popular product categories on Amazon UK, and how do they compare in terms of listing frequency?\n",
    "\n",
    "#### Frequency Tables:\n",
    "\n",
    "Generate a frequency table for the product category.\n",
    "Which are the top 5 most listed product categories?\n",
    "Visualizations:\n",
    "\n",
    "Display the distribution of products across different categories using a bar chart. If you face problems understanding the chart, do it for a subset of top categories.\n",
    "For a subset of top categories, visualize their proportions using a pie chart. Does any category dominate the listings?"
   ]
  },
  {
   "cell_type": "code",
   "execution_count": 16,
   "id": "c3af1682-b60f-4fea-98e0-26d662fb5db6",
   "metadata": {},
   "outputs": [
    {
     "data": {
      "text/html": [
       "<div>\n",
       "<style scoped>\n",
       "    .dataframe tbody tr th:only-of-type {\n",
       "        vertical-align: middle;\n",
       "    }\n",
       "\n",
       "    .dataframe tbody tr th {\n",
       "        vertical-align: top;\n",
       "    }\n",
       "\n",
       "    .dataframe thead th {\n",
       "        text-align: right;\n",
       "    }\n",
       "</style>\n",
       "<table border=\"1\" class=\"dataframe\">\n",
       "  <thead>\n",
       "    <tr style=\"text-align: right;\">\n",
       "      <th></th>\n",
       "      <th>asin</th>\n",
       "      <th>title</th>\n",
       "      <th>isBestSeller</th>\n",
       "      <th>category</th>\n",
       "    </tr>\n",
       "  </thead>\n",
       "  <tbody>\n",
       "    <tr>\n",
       "      <th>0</th>\n",
       "      <td>B09B96TG33</td>\n",
       "      <td>Echo Dot (5th generation, 2022 release) | Big ...</td>\n",
       "      <td>False</td>\n",
       "      <td>Hi-Fi Speakers</td>\n",
       "    </tr>\n",
       "    <tr>\n",
       "      <th>1</th>\n",
       "      <td>B01HTH3C8S</td>\n",
       "      <td>Anker Soundcore mini, Super-Portable Bluetooth...</td>\n",
       "      <td>True</td>\n",
       "      <td>Hi-Fi Speakers</td>\n",
       "    </tr>\n",
       "    <tr>\n",
       "      <th>2</th>\n",
       "      <td>B09B8YWXDF</td>\n",
       "      <td>Echo Dot (5th generation, 2022 release) | Big ...</td>\n",
       "      <td>False</td>\n",
       "      <td>Hi-Fi Speakers</td>\n",
       "    </tr>\n",
       "    <tr>\n",
       "      <th>3</th>\n",
       "      <td>B09B8T5VGV</td>\n",
       "      <td>Echo Dot with clock (5th generation, 2022 rele...</td>\n",
       "      <td>False</td>\n",
       "      <td>Hi-Fi Speakers</td>\n",
       "    </tr>\n",
       "    <tr>\n",
       "      <th>4</th>\n",
       "      <td>B09WX6QD65</td>\n",
       "      <td>Introducing Echo Pop | Full sound compact Wi-F...</td>\n",
       "      <td>False</td>\n",
       "      <td>Hi-Fi Speakers</td>\n",
       "    </tr>\n",
       "  </tbody>\n",
       "</table>\n",
       "</div>"
      ],
      "text/plain": [
       "         asin                                              title  \\\n",
       "0  B09B96TG33  Echo Dot (5th generation, 2022 release) | Big ...   \n",
       "1  B01HTH3C8S  Anker Soundcore mini, Super-Portable Bluetooth...   \n",
       "2  B09B8YWXDF  Echo Dot (5th generation, 2022 release) | Big ...   \n",
       "3  B09B8T5VGV  Echo Dot with clock (5th generation, 2022 rele...   \n",
       "4  B09WX6QD65  Introducing Echo Pop | Full sound compact Wi-F...   \n",
       "\n",
       "   isBestSeller        category  \n",
       "0         False  Hi-Fi Speakers  \n",
       "1          True  Hi-Fi Speakers  \n",
       "2         False  Hi-Fi Speakers  \n",
       "3         False  Hi-Fi Speakers  \n",
       "4         False  Hi-Fi Speakers  "
      ]
     },
     "execution_count": 16,
     "metadata": {},
     "output_type": "execute_result"
    }
   ],
   "source": [
    "cat.head()"
   ]
  },
  {
   "cell_type": "code",
   "execution_count": 17,
   "id": "92701399-b162-4862-b92b-e7cb5853f91a",
   "metadata": {},
   "outputs": [
    {
     "data": {
      "text/html": [
       "<div>\n",
       "<style scoped>\n",
       "    .dataframe tbody tr th:only-of-type {\n",
       "        vertical-align: middle;\n",
       "    }\n",
       "\n",
       "    .dataframe tbody tr th {\n",
       "        vertical-align: top;\n",
       "    }\n",
       "\n",
       "    .dataframe thead th {\n",
       "        text-align: right;\n",
       "    }\n",
       "</style>\n",
       "<table border=\"1\" class=\"dataframe\">\n",
       "  <thead>\n",
       "    <tr style=\"text-align: right;\">\n",
       "      <th></th>\n",
       "      <th>uid</th>\n",
       "      <th>stars</th>\n",
       "      <th>reviews</th>\n",
       "      <th>price</th>\n",
       "      <th>boughtInLastMonth</th>\n",
       "    </tr>\n",
       "  </thead>\n",
       "  <tbody>\n",
       "    <tr>\n",
       "      <th>0</th>\n",
       "      <td>1</td>\n",
       "      <td>4.7</td>\n",
       "      <td>15308</td>\n",
       "      <td>21.99</td>\n",
       "      <td>0</td>\n",
       "    </tr>\n",
       "    <tr>\n",
       "      <th>1</th>\n",
       "      <td>2</td>\n",
       "      <td>4.7</td>\n",
       "      <td>98099</td>\n",
       "      <td>23.99</td>\n",
       "      <td>0</td>\n",
       "    </tr>\n",
       "    <tr>\n",
       "      <th>2</th>\n",
       "      <td>3</td>\n",
       "      <td>4.7</td>\n",
       "      <td>15308</td>\n",
       "      <td>21.99</td>\n",
       "      <td>0</td>\n",
       "    </tr>\n",
       "    <tr>\n",
       "      <th>3</th>\n",
       "      <td>4</td>\n",
       "      <td>4.7</td>\n",
       "      <td>7205</td>\n",
       "      <td>31.99</td>\n",
       "      <td>0</td>\n",
       "    </tr>\n",
       "    <tr>\n",
       "      <th>4</th>\n",
       "      <td>5</td>\n",
       "      <td>4.6</td>\n",
       "      <td>1881</td>\n",
       "      <td>17.99</td>\n",
       "      <td>0</td>\n",
       "    </tr>\n",
       "  </tbody>\n",
       "</table>\n",
       "</div>"
      ],
      "text/plain": [
       "   uid  stars  reviews  price  boughtInLastMonth\n",
       "0    1    4.7    15308  21.99                  0\n",
       "1    2    4.7    98099  23.99                  0\n",
       "2    3    4.7    15308  21.99                  0\n",
       "3    4    4.7     7205  31.99                  0\n",
       "4    5    4.6     1881  17.99                  0"
      ]
     },
     "execution_count": 17,
     "metadata": {},
     "output_type": "execute_result"
    }
   ],
   "source": [
    "num.head()"
   ]
  },
  {
   "cell_type": "code",
   "execution_count": 18,
   "id": "cce90a80-8e47-4a2f-ae04-d8067b4098d0",
   "metadata": {},
   "outputs": [
    {
     "data": {
      "text/plain": [
       "Index(['asin', 'title', 'isBestSeller', 'category'], dtype='object')"
      ]
     },
     "execution_count": 18,
     "metadata": {},
     "output_type": "execute_result"
    }
   ],
   "source": [
    "cat.columns"
   ]
  },
  {
   "cell_type": "code",
   "execution_count": 19,
   "id": "86bf8c8a-6007-4d5a-a759-31b65c9dd7b0",
   "metadata": {},
   "outputs": [],
   "source": [
    "frequency_table=cat.category.value_counts()"
   ]
  },
  {
   "cell_type": "code",
   "execution_count": 20,
   "id": "8d4f8f42-ef2d-42ad-875d-ed3ec790513b",
   "metadata": {},
   "outputs": [
    {
     "data": {
      "text/plain": [
       "category\n",
       "Sports & Outdoors               414834\n",
       "Bath & Body                      19092\n",
       "Birthday Gifts                   18978\n",
       "Manicure & Pedicure Products     18940\n",
       "Skin Care                        18769\n",
       "                                 ...  \n",
       "Motorbike Chassis                   93\n",
       "Smart Speakers                      46\n",
       "eBook Readers & Accessories         24\n",
       "Light Bulbs                         23\n",
       "Lighting                            16\n",
       "Name: count, Length: 141, dtype: int64"
      ]
     },
     "execution_count": 20,
     "metadata": {},
     "output_type": "execute_result"
    }
   ],
   "source": [
    "frequency_table"
   ]
  },
  {
   "cell_type": "code",
   "execution_count": 21,
   "id": "8e7dbe17-7172-42d7-ba9c-398d52e57f87",
   "metadata": {},
   "outputs": [],
   "source": [
    "# Get the top 5 most listed categories\n",
    "top_categories = frequency_table.nlargest(5)"
   ]
  },
  {
   "cell_type": "code",
   "execution_count": 22,
   "id": "e452afe5-c819-4ffe-aa05-f25b885f23f2",
   "metadata": {},
   "outputs": [
    {
     "data": {
      "text/plain": [
       "category\n",
       "Sports & Outdoors               414834\n",
       "Bath & Body                      19092\n",
       "Birthday Gifts                   18978\n",
       "Manicure & Pedicure Products     18940\n",
       "Skin Care                        18769\n",
       "Name: count, dtype: int64"
      ]
     },
     "execution_count": 22,
     "metadata": {},
     "output_type": "execute_result"
    }
   ],
   "source": [
    "top_categories "
   ]
  },
  {
   "cell_type": "code",
   "execution_count": 23,
   "id": "2626f017-e088-42b3-8e0b-0ec0fe7c4e33",
   "metadata": {},
   "outputs": [],
   "source": [
    "proportion_table=cat.category.value_counts(normalize=True)"
   ]
  },
  {
   "cell_type": "code",
   "execution_count": 24,
   "id": "ff0ca813-19ea-430b-8178-4e001faf5b4a",
   "metadata": {},
   "outputs": [
    {
     "data": {
      "text/plain": [
       "category\n",
       "Sports & Outdoors               0.395617\n",
       "Bath & Body                     0.018208\n",
       "Birthday Gifts                  0.018099\n",
       "Manicure & Pedicure Products    0.018063\n",
       "Skin Care                       0.017900\n",
       "                                  ...   \n",
       "Motorbike Chassis               0.000089\n",
       "Smart Speakers                  0.000044\n",
       "eBook Readers & Accessories     0.000023\n",
       "Light Bulbs                     0.000022\n",
       "Lighting                        0.000015\n",
       "Name: proportion, Length: 141, dtype: float64"
      ]
     },
     "execution_count": 24,
     "metadata": {},
     "output_type": "execute_result"
    }
   ],
   "source": [
    "proportion_table"
   ]
  },
  {
   "cell_type": "code",
   "execution_count": 25,
   "id": "3d267456-77fc-4ebd-bf11-21fc7475c2d8",
   "metadata": {},
   "outputs": [],
   "source": [
    "df2=pd.concat([frequency_table,proportion_table],axis=1)"
   ]
  },
  {
   "cell_type": "code",
   "execution_count": 26,
   "id": "31ce4bc2-5412-483a-91aa-f243878fdc7b",
   "metadata": {},
   "outputs": [
    {
     "data": {
      "text/html": [
       "<div>\n",
       "<style scoped>\n",
       "    .dataframe tbody tr th:only-of-type {\n",
       "        vertical-align: middle;\n",
       "    }\n",
       "\n",
       "    .dataframe tbody tr th {\n",
       "        vertical-align: top;\n",
       "    }\n",
       "\n",
       "    .dataframe thead th {\n",
       "        text-align: right;\n",
       "    }\n",
       "</style>\n",
       "<table border=\"1\" class=\"dataframe\">\n",
       "  <thead>\n",
       "    <tr style=\"text-align: right;\">\n",
       "      <th></th>\n",
       "      <th>count</th>\n",
       "      <th>proportion</th>\n",
       "    </tr>\n",
       "    <tr>\n",
       "      <th>category</th>\n",
       "      <th></th>\n",
       "      <th></th>\n",
       "    </tr>\n",
       "  </thead>\n",
       "  <tbody>\n",
       "    <tr>\n",
       "      <th>Sports &amp; Outdoors</th>\n",
       "      <td>414834</td>\n",
       "      <td>0.395617</td>\n",
       "    </tr>\n",
       "    <tr>\n",
       "      <th>Bath &amp; Body</th>\n",
       "      <td>19092</td>\n",
       "      <td>0.018208</td>\n",
       "    </tr>\n",
       "    <tr>\n",
       "      <th>Birthday Gifts</th>\n",
       "      <td>18978</td>\n",
       "      <td>0.018099</td>\n",
       "    </tr>\n",
       "    <tr>\n",
       "      <th>Manicure &amp; Pedicure Products</th>\n",
       "      <td>18940</td>\n",
       "      <td>0.018063</td>\n",
       "    </tr>\n",
       "    <tr>\n",
       "      <th>Skin Care</th>\n",
       "      <td>18769</td>\n",
       "      <td>0.017900</td>\n",
       "    </tr>\n",
       "    <tr>\n",
       "      <th>...</th>\n",
       "      <td>...</td>\n",
       "      <td>...</td>\n",
       "    </tr>\n",
       "    <tr>\n",
       "      <th>Motorbike Chassis</th>\n",
       "      <td>93</td>\n",
       "      <td>0.000089</td>\n",
       "    </tr>\n",
       "    <tr>\n",
       "      <th>Smart Speakers</th>\n",
       "      <td>46</td>\n",
       "      <td>0.000044</td>\n",
       "    </tr>\n",
       "    <tr>\n",
       "      <th>eBook Readers &amp; Accessories</th>\n",
       "      <td>24</td>\n",
       "      <td>0.000023</td>\n",
       "    </tr>\n",
       "    <tr>\n",
       "      <th>Light Bulbs</th>\n",
       "      <td>23</td>\n",
       "      <td>0.000022</td>\n",
       "    </tr>\n",
       "    <tr>\n",
       "      <th>Lighting</th>\n",
       "      <td>16</td>\n",
       "      <td>0.000015</td>\n",
       "    </tr>\n",
       "  </tbody>\n",
       "</table>\n",
       "<p>141 rows × 2 columns</p>\n",
       "</div>"
      ],
      "text/plain": [
       "                               count  proportion\n",
       "category                                        \n",
       "Sports & Outdoors             414834    0.395617\n",
       "Bath & Body                    19092    0.018208\n",
       "Birthday Gifts                 18978    0.018099\n",
       "Manicure & Pedicure Products   18940    0.018063\n",
       "Skin Care                      18769    0.017900\n",
       "...                              ...         ...\n",
       "Motorbike Chassis                 93    0.000089\n",
       "Smart Speakers                    46    0.000044\n",
       "eBook Readers & Accessories       24    0.000023\n",
       "Light Bulbs                       23    0.000022\n",
       "Lighting                          16    0.000015\n",
       "\n",
       "[141 rows x 2 columns]"
      ]
     },
     "execution_count": 26,
     "metadata": {},
     "output_type": "execute_result"
    }
   ],
   "source": [
    "df2"
   ]
  },
  {
   "cell_type": "code",
   "execution_count": 27,
   "id": "492ba7ba-ae61-4fd1-a6c3-08a18cf63782",
   "metadata": {},
   "outputs": [
    {
     "data": {
      "text/html": [
       "<div>\n",
       "<style scoped>\n",
       "    .dataframe tbody tr th:only-of-type {\n",
       "        vertical-align: middle;\n",
       "    }\n",
       "\n",
       "    .dataframe tbody tr th {\n",
       "        vertical-align: top;\n",
       "    }\n",
       "\n",
       "    .dataframe thead th {\n",
       "        text-align: right;\n",
       "    }\n",
       "</style>\n",
       "<table border=\"1\" class=\"dataframe\">\n",
       "  <thead>\n",
       "    <tr style=\"text-align: right;\">\n",
       "      <th></th>\n",
       "      <th>category</th>\n",
       "      <th>count</th>\n",
       "    </tr>\n",
       "  </thead>\n",
       "  <tbody>\n",
       "    <tr>\n",
       "      <th>0</th>\n",
       "      <td>Sports &amp; Outdoors</td>\n",
       "      <td>414834</td>\n",
       "    </tr>\n",
       "    <tr>\n",
       "      <th>1</th>\n",
       "      <td>Bath &amp; Body</td>\n",
       "      <td>19092</td>\n",
       "    </tr>\n",
       "    <tr>\n",
       "      <th>2</th>\n",
       "      <td>Birthday Gifts</td>\n",
       "      <td>18978</td>\n",
       "    </tr>\n",
       "    <tr>\n",
       "      <th>3</th>\n",
       "      <td>Manicure &amp; Pedicure Products</td>\n",
       "      <td>18940</td>\n",
       "    </tr>\n",
       "    <tr>\n",
       "      <th>4</th>\n",
       "      <td>Skin Care</td>\n",
       "      <td>18769</td>\n",
       "    </tr>\n",
       "    <tr>\n",
       "      <th>...</th>\n",
       "      <td>...</td>\n",
       "      <td>...</td>\n",
       "    </tr>\n",
       "    <tr>\n",
       "      <th>136</th>\n",
       "      <td>Motorbike Chassis</td>\n",
       "      <td>93</td>\n",
       "    </tr>\n",
       "    <tr>\n",
       "      <th>137</th>\n",
       "      <td>Smart Speakers</td>\n",
       "      <td>46</td>\n",
       "    </tr>\n",
       "    <tr>\n",
       "      <th>138</th>\n",
       "      <td>eBook Readers &amp; Accessories</td>\n",
       "      <td>24</td>\n",
       "    </tr>\n",
       "    <tr>\n",
       "      <th>139</th>\n",
       "      <td>Light Bulbs</td>\n",
       "      <td>23</td>\n",
       "    </tr>\n",
       "    <tr>\n",
       "      <th>140</th>\n",
       "      <td>Lighting</td>\n",
       "      <td>16</td>\n",
       "    </tr>\n",
       "  </tbody>\n",
       "</table>\n",
       "<p>141 rows × 2 columns</p>\n",
       "</div>"
      ],
      "text/plain": [
       "                         category   count\n",
       "0               Sports & Outdoors  414834\n",
       "1                     Bath & Body   19092\n",
       "2                  Birthday Gifts   18978\n",
       "3    Manicure & Pedicure Products   18940\n",
       "4                       Skin Care   18769\n",
       "..                            ...     ...\n",
       "136             Motorbike Chassis      93\n",
       "137                Smart Speakers      46\n",
       "138   eBook Readers & Accessories      24\n",
       "139                   Light Bulbs      23\n",
       "140                      Lighting      16\n",
       "\n",
       "[141 rows x 2 columns]"
      ]
     },
     "execution_count": 27,
     "metadata": {},
     "output_type": "execute_result"
    }
   ],
   "source": [
    "frequency_table.reset_index()"
   ]
  },
  {
   "cell_type": "code",
   "execution_count": 28,
   "id": "cbf024cb-e1a3-4865-bb05-72785ba07c75",
   "metadata": {},
   "outputs": [
    {
     "data": {
      "image/png": "[encoded data removed]",
      "text/plain": [
       "<Figure size 1000x600 with 1 Axes>"
      ]
     },
     "metadata": {},
     "output_type": "display_data"
    }
   ],
   "source": [
    "#sns.barplot(x=frequency_table, y=frequency_table.values, palette=\"Set2\")\n",
    "# Create a bar chart for the distribution of products\n",
    "plt.figure(figsize=(10, 6))\n",
    "plt.bar(top_categories.index, top_categories.values, color='skyblue')\n",
    "plt.xlabel(\"Product Category\")\n",
    "plt.ylabel(\"Number of Listings\")\n",
    "plt.title(\"Distribution of Products by Category\")\n",
    "plt.xticks(rotation=45)\n",
    "plt.show()"
   ]
  },
  {
   "cell_type": "code",
   "execution_count": 29,
   "id": "013e6f0d-5509-43b8-aeb9-8756e0c1388c",
   "metadata": {},
   "outputs": [
    {
     "data": {
      "image/png": "[encoded data removed]",
      "text/plain": [
       "<Figure size 800x800 with 1 Axes>"
      ]
     },
     "metadata": {},
     "output_type": "display_data"
    }
   ],
   "source": [
    "# Create a pie chart for the top categories\n",
    "plt.figure(figsize=(8, 8))\n",
    "plt.pie(top_categories, labels=top_categories.index, autopct='%1.1f%%', startangle=90, colors=['lightcoral', 'lightskyblue', 'lightgreen', 'gold', 'lightpink'])\n",
    "plt.title(\"Proportion of Top Product Categories\")\n",
    "plt.axis('equal')\n",
    "plt.show()"
   ]
  },
  {
   "cell_type": "raw",
   "id": "13ae63a1-a609-438c-b88c-38c5c0069fc2",
   "metadata": {},
   "source": [
    "\"\"\"Generate the frequency table for 'category'\n",
    "category_counts = df['category'].value_counts()\n",
    "print(category_counts)\n",
    "# Get the top 5 most listed categories\n",
    "top_categories = category_counts.nlargest(5)\n",
    "\n",
    "# Display the frequency table\n",
    "print(\"Frequency Table for Product Categories:\")\n",
    "print(top_categories)\n",
    "\n",
    "# Create a bar chart for the distribution of products\n",
    "plt.figure(figsize=(10, 6))\n",
    "plt.bar(top_categories.index, top_categories.values, color='skyblue')\n",
    "plt.xlabel(\"Product Category\")\n",
    "plt.ylabel(\"Number of Listings\")\n",
    "plt.title(\"Distribution of Products by Category\")\n",
    "plt.xticks(rotation=45)\n",
    "plt.show()\"\"\"\n"
   ]
  },
  {
   "cell_type": "markdown",
   "id": "f9b7037a-fd66-4d66-a89f-b7fd4b3148c0",
   "metadata": {},
   "source": [
    "### Part 2: Delving into Product Pricing\r",
    "### \n",
    "Business Question: How are products priced on Amazon UK, and are there specific price points or ranges that are more common?\r\n",
    "\r\n",
    "Measures of Centrality:\r\n",
    "\r\n",
    "Calculate the mean, median, and mode for the price of products.\r\n",
    "What's the average price point of products listed? How does this compare with the most common price point (mode)?\r\n",
    "Measures of Dispersion:\r\n",
    "\r\n",
    "Determine the variance, standard deviation, range, and interquartile range for product price.\r\n",
    "How varied are the product prices? Are there any indicators of a significant spread in prices?\r\n",
    "Visualizations:\r\n",
    "\r\n",
    "Is there a specific price range where most products fall? Plot a histogram to visualize the distribution of product prices. If its hard to read these diagrams, think why this is, and explain how it could be solved..\r\n",
    "Are there products that are priced significantly higher than the rest? Use a box plot to showcase the spread and potential outliers in product pricing."
   ]
  },
  {
   "cell_type": "code",
   "execution_count": 30,
   "id": "ae50b1a1-f7a6-4700-aae1-db1699d06a4f",
   "metadata": {},
   "outputs": [
    {
     "data": {
      "text/html": [
       "<div>\n",
       "<style scoped>\n",
       "    .dataframe tbody tr th:only-of-type {\n",
       "        vertical-align: middle;\n",
       "    }\n",
       "\n",
       "    .dataframe tbody tr th {\n",
       "        vertical-align: top;\n",
       "    }\n",
       "\n",
       "    .dataframe thead th {\n",
       "        text-align: right;\n",
       "    }\n",
       "</style>\n",
       "<table border=\"1\" class=\"dataframe\">\n",
       "  <thead>\n",
       "    <tr style=\"text-align: right;\">\n",
       "      <th></th>\n",
       "      <th>count</th>\n",
       "      <th>mean</th>\n",
       "      <th>std</th>\n",
       "      <th>min</th>\n",
       "      <th>25%</th>\n",
       "      <th>50%</th>\n",
       "      <th>75%</th>\n",
       "      <th>max</th>\n",
       "    </tr>\n",
       "  </thead>\n",
       "  <tbody>\n",
       "    <tr>\n",
       "      <th>uid</th>\n",
       "      <td>1048575.0</td>\n",
       "      <td>568105.0</td>\n",
       "      <td>332287.0</td>\n",
       "      <td>1.0</td>\n",
       "      <td>278786.0</td>\n",
       "      <td>564745.0</td>\n",
       "      <td>847462.0</td>\n",
       "      <td>1158206.0</td>\n",
       "    </tr>\n",
       "    <tr>\n",
       "      <th>stars</th>\n",
       "      <td>1048575.0</td>\n",
       "      <td>2.0</td>\n",
       "      <td>2.0</td>\n",
       "      <td>0.0</td>\n",
       "      <td>0.0</td>\n",
       "      <td>0.0</td>\n",
       "      <td>4.0</td>\n",
       "      <td>5.0</td>\n",
       "    </tr>\n",
       "    <tr>\n",
       "      <th>reviews</th>\n",
       "      <td>1048575.0</td>\n",
       "      <td>334.0</td>\n",
       "      <td>3280.0</td>\n",
       "      <td>0.0</td>\n",
       "      <td>0.0</td>\n",
       "      <td>0.0</td>\n",
       "      <td>39.0</td>\n",
       "      <td>503952.0</td>\n",
       "    </tr>\n",
       "    <tr>\n",
       "      <th>price</th>\n",
       "      <td>1048575.0</td>\n",
       "      <td>79.0</td>\n",
       "      <td>275.0</td>\n",
       "      <td>0.0</td>\n",
       "      <td>10.0</td>\n",
       "      <td>19.0</td>\n",
       "      <td>45.0</td>\n",
       "      <td>22933.0</td>\n",
       "    </tr>\n",
       "    <tr>\n",
       "      <th>boughtInLastMonth</th>\n",
       "      <td>1048575.0</td>\n",
       "      <td>18.0</td>\n",
       "      <td>176.0</td>\n",
       "      <td>0.0</td>\n",
       "      <td>0.0</td>\n",
       "      <td>0.0</td>\n",
       "      <td>0.0</td>\n",
       "      <td>50000.0</td>\n",
       "    </tr>\n",
       "  </tbody>\n",
       "</table>\n",
       "</div>"
      ],
      "text/plain": [
       "                       count      mean       std  min       25%       50%  \\\n",
       "uid                1048575.0  568105.0  332287.0  1.0  278786.0  564745.0   \n",
       "stars              1048575.0       2.0       2.0  0.0       0.0       0.0   \n",
       "reviews            1048575.0     334.0    3280.0  0.0       0.0       0.0   \n",
       "price              1048575.0      79.0     275.0  0.0      10.0      19.0   \n",
       "boughtInLastMonth  1048575.0      18.0     176.0  0.0       0.0       0.0   \n",
       "\n",
       "                        75%        max  \n",
       "uid                847462.0  1158206.0  \n",
       "stars                   4.0        5.0  \n",
       "reviews                39.0   503952.0  \n",
       "price                  45.0    22933.0  \n",
       "boughtInLastMonth       0.0    50000.0  "
      ]
     },
     "execution_count": 30,
     "metadata": {},
     "output_type": "execute_result"
    }
   ],
   "source": [
    "num.describe().T.round(0)"
   ]
  },
  {
   "cell_type": "markdown",
   "id": "b89901f2-7516-4123-9fb6-c4f5c5656262",
   "metadata": {},
   "source": [
    "**Insights** from Summary Statistics for 'Price':\r\n",
    "Measures of Centrality:\n",
    "- \r\n",
    "Mean: The mean price of products is £7\n",
    "  9- .\r\n",
    "Median: The median price of products is £\n",
    "  1- 9.\r\n",
    "Mode: The mode indicates the most common price p.\n",
    "  int.\r\n",
    "Measures of Disper\n",
    "vided.\r\n",
    "Standard Deviation: The standard deviation for product prices \n",
    "  is £275.\r\n",
    "Range: The range for product prices is from £0 to\n",
    "  \n",
    "£22,933.\r\n",
    "Interquartile Range (IQR): The interquartile range for product prices is from £10 to £45."
   ]
  },
  {
   "cell_type": "code",
   "execution_count": 31,
   "id": "3b736951-1a20-49f4-98dd-4a38c7d2c49f",
   "metadata": {},
   "outputs": [],
   "source": [
    "mean_price =num.price.mean()"
   ]
  },
  {
   "cell_type": "markdown",
   "id": "ab5ffb59-49de-465d-b5fb-ebfae5c88c0c",
   "metadata": {},
   "source": [
    "mean_price"
   ]
  },
  {
   "cell_type": "code",
   "execution_count": 32,
   "id": "a019b7f5-3a67-4759-b9c9-5cdad05d401a",
   "metadata": {},
   "outputs": [
    {
     "data": {
      "text/plain": [
       "0    9.99\n",
       "Name: price, dtype: float64"
      ]
     },
     "execution_count": 32,
     "metadata": {},
     "output_type": "execute_result"
    }
   ],
   "source": [
    "num.price.mode()"
   ]
  },
  {
   "cell_type": "code",
   "execution_count": 33,
   "id": "a1dbd176-9baa-4e74-8daa-2f4fc31c2851",
   "metadata": {},
   "outputs": [
    {
     "data": {
      "text/plain": [
       "75565.9304016307"
      ]
     },
     "execution_count": 33,
     "metadata": {},
     "output_type": "execute_result"
    }
   ],
   "source": [
    "num.price.var()"
   ]
  },
  {
   "cell_type": "code",
   "execution_count": 34,
   "id": "32a11a93-ef42-490a-b725-675b432ef085",
   "metadata": {},
   "outputs": [],
   "source": [
    "##price_values = np.random.normal(loc=mean_price, scale=df.loc['price', 'std'], size=1000)  # Creating a sample of product prices"
   ]
  },
  {
   "cell_type": "code",
   "execution_count": null,
   "id": "d8f1d704-6ea9-41d3-9d47-5cf44be6110b",
   "metadata": {},
   "outputs": [],
   "source": []
  },
  {
   "cell_type": "markdown",
   "id": "e684e2b4-8ed1-49f2-ba01-63e3ca847d58",
   "metadata": {},
   "source": [
    "### Measures of Dispersion"
   ]
  },
  {
   "cell_type": "code",
   "execution_count": 35,
   "id": "af9a66bb-7867-42f1-9baf-ca7582a66be5",
   "metadata": {},
   "outputs": [
    {
     "ename": "SyntaxError",
     "evalue": "invalid decimal literal (3599610376.py, line 1)",
     "output_type": "error",
     "traceback": [
      "\u001b[1;36m  Cell \u001b[1;32mIn[35], line 1\u001b[1;36m\u001b[0m\n\u001b[1;33m    num.price.quantile([0.3d]).reset_index()\u001b[0m\n\u001b[1;37m                          ^\u001b[0m\n\u001b[1;31mSyntaxError\u001b[0m\u001b[1;31m:\u001b[0m invalid decimal literal\n"
     ]
    }
   ],
   "source": [
    "num.price.quantile([0.3d]).reset_index()"
   ]
  },
  {
   "cell_type": "markdown",
   "id": "6abfa536-89ea-482f-9eb6-0fcaaffa66e7",
   "metadata": {},
   "source": [
    "### Shape of the Distribution\n",
    "Skewness and kurtosis provide insights into the shape of the data distribution. Skewness indicates the asymmetry, and kurtosis tells about the \"tailedness\" or how peaked the distribution is."
   ]
  },
  {
   "cell_type": "code",
   "execution_count": null,
   "id": "756e8616-4177-4143-9335-2e483331b395",
   "metadata": {},
   "outputs": [],
   "source": [
    "num.price.skew().round(2)"
   ]
  },
  {
   "cell_type": "markdown",
   "id": "4b551556-ecc7-4a3e-bead-2e8764d7b697",
   "metadata": {},
   "source": [
    "- Skewness = 0: The distribution is perfectly symmetrical, resembling a normal distribution.\n",
    "- Skewness > 0: The distribution is positively skewed (or right-skewed), meaning there is a longer tail on the right side of the distribution. The mass of the distribution is concentrated on the left of the figure.\n",
    "- Skewness < 0: The distribution is negatively skewed (or left-skewed), meaning there is a longer tail on the left side of the distribution. The mass of the distribution is concentrated on the right of the figure."
   ]
  },
  {
   "cell_type": "code",
   "execution_count": null,
   "id": "ae50e498-74f1-492a-9a9c-8df9aedcb067",
   "metadata": {},
   "outputs": [],
   "source": [
    "num.price.kurtosis().round(2)"
   ]
  },
  {
   "cell_type": "markdown",
   "id": "1573088d-026e-46c6-8292-ed03d786055c",
   "metadata": {},
   "source": [
    "- Excess Kurtosis = 0 (or Kurtosis = 3): The distribution has the same kurtosis as a normal distribution, known as mesokurtic. It indicates a distribution with tails similar to the normal distribution.\n",
    "- Excess Kurtosis > 0 (or Kurtosis > 3): The distribution is leptokurtic. It has fatter tails and a sharper peak than the normal distribution, indicating more extreme values (outliers) than expected in a normal distribution.\n",
    "- Excess Kurtosis < 0 (or Kurtosis < 3): The distribution is platykurtic. It has thinner tails and a flatter peak than the normal distribution, indicating fewer extreme values than expected in a normal distribution."
   ]
  },
  {
   "cell_type": "markdown",
   "id": "e94ea546-ef3c-4d34-b012-67851e1ea462",
   "metadata": {},
   "source": [
    "- Skewness of 'SalePrice': \\(14.08\\)\n",
    "- Kurtosis of 'SalePrice': \\(401.59\\)\n",
    "\n",
    "**Insights**:\n",
    "\n",
    "1. **Skewness**: The positive value of skewness (14.08) for the 'Price' indicates that the distribution is right-skewed. This means that the tail on the right side (higher prices) is longer than the left side (lower prices). In practical terms, this suggests that there are a significant number of Products that are sold at higher prices, which are acting as outliers and pulling the mean upwards.\n",
    "  \n",
    "2. **Kurtosis**: The kurtosis value of 401.59 is greater than 3, which indicates that the 'Price' distribution has heavier tails and a sharper peak compared to a normal distribution. This means that there are more outliers (extreme values) in the 'Price' than one would expect in a normally distributed set.\n",
    "\n",
    "The skewness and kurtosis values suggest that there are some houses that are sold at significantly higher prices than the majority, and these are affecting the overall distribution of house prices in the dataset."
   ]
  },
  {
   "cell_type": "markdown",
   "id": "1ba4b515-b937-42f9-beb9-942a48b61a5f",
   "metadata": {},
   "source": [
    "#### Visualizations\n",
    "\n",
    "Visual tools like histograms and box plots offer insights into the distribution, variability, and potential outliers in numerical data"
   ]
  },
  {
   "cell_type": "code",
   "execution_count": 38,
   "id": "673a0e80-91b9-440d-97e5-353e7efddd5a",
   "metadata": {},
   "outputs": [
    {
     "name": "stderr",
     "output_type": "stream",
     "text": [
      "C:\\Users\\PC\\anaconda3\\Lib\\site-packages\\seaborn\\_oldcore.py:1119: FutureWarning: use_inf_as_na option is deprecated and will be removed in a future version. Convert inf values to NaN before operating instead.\n",
      "  with pd.option_context('mode.use_inf_as_na', True):\n"
     ]
    },
    {
     "data": {
      "text/plain": [
       "<Axes: xlabel='price', ylabel='Count'>"
      ]
     },
     "execution_count": 38,
     "metadata": {},
     "output_type": "execute_result"
    },
    {
     "data": {
      "image/png": "[encoded data removed]",
      "text/plain": [
       "<Figure size 640x480 with 1 Axes>"
      ]
     },
     "metadata": {},
     "output_type": "display_data"
    }
   ],
   "source": [
    "sns.histplot(num.price, bins=30) "
   ]
  },
  {
   "cell_type": "markdown",
   "id": "24179f3f-7798-4a2b-89af-ffe64187c434",
   "metadata": {},
   "source": [
    "##### Box plots"
   ]
  },
  {
   "cell_type": "markdown",
   "id": "0e1253fe-3958-4a64-8521-a447073caf5f",
   "metadata": {},
   "source": [
    "Box plots, or whisker plots, showcase the central 50% of the data (interquartile range), potential outliers, and other statistical properties."
   ]
  },
  {
   "cell_type": "code",
   "execution_count": 39,
   "id": "9058ef3f-8b23-48be-9527-e5df822b162b",
   "metadata": {},
   "outputs": [
    {
     "data": {
      "text/plain": [
       "<Axes: >"
      ]
     },
     "execution_count": 39,
     "metadata": {},
     "output_type": "execute_result"
    },
    {
     "data": {
      "image/png": "[encoded data removed]",
      "text/plain": [
       "<Figure size 640x480 with 1 Axes>"
      ]
     },
     "metadata": {},
     "output_type": "display_data"
    }
   ],
   "source": [
    "sns.boxplot(data=num.price)"
   ]
  },
  {
   "cell_type": "markdown",
   "id": "8113ad21-d8fc-4cae-80d2-2fb1e40d26a3",
   "metadata": {},
   "source": [
    "### Part 3: Unpacking Product Ratings\n",
    "\n",
    "**Business Question**: How do customers rate products on Amazon UK, and are there any patterns or tendencies in the ratings?\n",
    "\n",
    "1. **Measures of Centrality**:\n",
    "    - Calculate the mean, median, and mode for the `rating` of products.\n",
    "    - How do customers generally rate products? Is there a common trend?\n",
    "\n",
    "2. **Measures of Dispersion**:\n",
    "    - Determine the variance, standard deviation, and interquartile range for product `rating`.\n",
    "    - Are the ratings consistent, or is there a wide variation in customer feedback?\n",
    "\n",
    "3. **Shape of the Distribution**:\n",
    "    - Calculate the skewness and kurtosis for the `rating` column. \n",
    "    - Are the ratings normally distributed, or do they lean towards higher or lower values?\n",
    "\n",
    "4. **Visualizations**:\n",
    "    - Plot a histogram to visualize the distribution of product ratings. Is there a specific rating that is more common?\n"
   ]
  },
  {
   "cell_type": "code",
   "execution_count": 40,
   "id": "dbca073b-f91f-40d9-bbdc-494bb06bc4cb",
   "metadata": {},
   "outputs": [
    {
     "data": {
      "text/plain": [
       "Index(['uid', 'asin', 'title', 'stars', 'reviews', 'price', 'isBestSeller',\n",
       "       'boughtInLastMonth', 'category'],\n",
       "      dtype='object')"
      ]
     },
     "execution_count": 40,
     "metadata": {},
     "output_type": "execute_result"
    }
   ],
   "source": [
    "df.columns"
   ]
  },
  {
   "cell_type": "code",
   "execution_count": 41,
   "id": "3b934b09-25f9-4b9c-97ce-277b3caf1652",
   "metadata": {},
   "outputs": [
    {
     "data": {
      "text/plain": [
       "0          4.7\n",
       "1          4.7\n",
       "2          4.7\n",
       "3          4.7\n",
       "4          4.6\n",
       "          ... \n",
       "1048570    4.2\n",
       "1048571    4.4\n",
       "1048572    3.9\n",
       "1048573    0.0\n",
       "1048574    3.8\n",
       "Name: stars, Length: 1048575, dtype: float64"
      ]
     },
     "execution_count": 41,
     "metadata": {},
     "output_type": "execute_result"
    }
   ],
   "source": [
    "df.stars"
   ]
  },
  {
   "cell_type": "code",
   "execution_count": 42,
   "id": "4f6dfb28-9bf9-4f71-a092-d090a3aca581",
   "metadata": {},
   "outputs": [
    {
     "data": {
      "text/plain": [
       "2.0615116706005776"
      ]
     },
     "execution_count": 42,
     "metadata": {},
     "output_type": "execute_result"
    }
   ],
   "source": [
    "df.stars.mean()"
   ]
  },
  {
   "cell_type": "code",
   "execution_count": 43,
   "id": "374f2ad1-f9c0-4b84-82e1-7cf451fad39b",
   "metadata": {},
   "outputs": [
    {
     "data": {
      "text/plain": [
       "0.0"
      ]
     },
     "execution_count": 43,
     "metadata": {},
     "output_type": "execute_result"
    }
   ],
   "source": [
    "df.stars.median()"
   ]
  },
  {
   "cell_type": "code",
   "execution_count": 44,
   "id": "1c06f458-75a5-4305-a1b2-d66d9094a85b",
   "metadata": {},
   "outputs": [
    {
     "data": {
      "text/plain": [
       "0    0.0\n",
       "Name: stars, dtype: float64"
      ]
     },
     "execution_count": 44,
     "metadata": {},
     "output_type": "execute_result"
    }
   ],
   "source": [
    "df.stars.mode()"
   ]
  },
  {
   "cell_type": "code",
   "execution_count": 45,
   "id": "66ebbd18-1cc2-469d-bafd-600266d9f305",
   "metadata": {},
   "outputs": [
    {
     "data": {
      "text/plain": [
       "5.0"
      ]
     },
     "execution_count": 45,
     "metadata": {},
     "output_type": "execute_result"
    }
   ],
   "source": [
    "df.stars.max()"
   ]
  },
  {
   "cell_type": "code",
   "execution_count": 46,
   "id": "5e8dd4f6-1ae2-4037-b12b-8664a76c34f6",
   "metadata": {},
   "outputs": [
    {
     "data": {
      "text/plain": [
       "0.0"
      ]
     },
     "execution_count": 46,
     "metadata": {},
     "output_type": "execute_result"
    }
   ],
   "source": [
    "df.stars.min()"
   ]
  },
  {
   "cell_type": "code",
   "execution_count": 47,
   "id": "463ddce5-b081-4ec0-b8f1-33bfe2c9a853",
   "metadata": {},
   "outputs": [
    {
     "data": {
      "text/plain": [
       "4.812410730577608"
      ]
     },
     "execution_count": 47,
     "metadata": {},
     "output_type": "execute_result"
    }
   ],
   "source": [
    "np.var(df.stars)"
   ]
  },
  {
   "cell_type": "code",
   "execution_count": 48,
   "id": "0b2da132-093c-44c5-a32c-fafb4ec104ff",
   "metadata": {},
   "outputs": [
    {
     "data": {
      "text/plain": [
       "2.1937207503640037"
      ]
     },
     "execution_count": 48,
     "metadata": {},
     "output_type": "execute_result"
    }
   ],
   "source": [
    "np.std(df.stars)"
   ]
  },
  {
   "cell_type": "code",
   "execution_count": 49,
   "id": "d378ded0-52dc-46a8-87b1-aa7be9374a21",
   "metadata": {},
   "outputs": [
    {
     "data": {
      "text/plain": [
       "5.0"
      ]
     },
     "execution_count": 49,
     "metadata": {},
     "output_type": "execute_result"
    }
   ],
   "source": [
    "df.stars.max() - df.stars.min()"
   ]
  },
  {
   "cell_type": "code",
   "execution_count": 50,
   "id": "707a6cfd-f608-4d32-944f-b27a7eb88ac9",
   "metadata": {},
   "outputs": [],
   "source": [
    "q1 = np.percentile(df.stars, 25)\n",
    "q3 = np.percentile(df.stars, 75)"
   ]
  },
  {
   "cell_type": "code",
   "execution_count": 51,
   "id": "110bbeaa-9898-4ced-bdc7-0f769af406cd",
   "metadata": {},
   "outputs": [
    {
     "data": {
      "text/plain": [
       "4.4"
      ]
     },
     "execution_count": 51,
     "metadata": {},
     "output_type": "execute_result"
    }
   ],
   "source": [
    "q3-q1"
   ]
  },
  {
   "cell_type": "code",
   "execution_count": 52,
   "id": "a204df95-0904-4342-a362-c9efcaf26dac",
   "metadata": {},
   "outputs": [
    {
     "data": {
      "text/plain": [
       "-1.9"
      ]
     },
     "execution_count": 52,
     "metadata": {},
     "output_type": "execute_result"
    }
   ],
   "source": [
    "df.stars.kurtosis().round(2)"
   ]
  },
  {
   "cell_type": "code",
   "execution_count": 53,
   "id": "35b6069f-6d56-44d3-8ade-5aa172013148",
   "metadata": {},
   "outputs": [
    {
     "data": {
      "text/plain": [
       "0.17"
      ]
     },
     "execution_count": 53,
     "metadata": {},
     "output_type": "execute_result"
    }
   ],
   "source": [
    "df.stars.skew().round(2)"
   ]
  },
  {
   "cell_type": "code",
   "execution_count": 54,
   "id": "752e6d99-6476-469f-b8f4-3aa09f664f2b",
   "metadata": {},
   "outputs": [
    {
     "name": "stderr",
     "output_type": "stream",
     "text": [
      "C:\\Users\\PC\\anaconda3\\Lib\\site-packages\\seaborn\\_oldcore.py:1119: FutureWarning: use_inf_as_na option is deprecated and will be removed in a future version. Convert inf values to NaN before operating instead.\n",
      "  with pd.option_context('mode.use_inf_as_na', True):\n"
     ]
    },
    {
     "data": {
      "text/plain": [
       "<Axes: xlabel='stars', ylabel='Count'>"
      ]
     },
     "execution_count": 54,
     "metadata": {},
     "output_type": "execute_result"
    },
    {
     "data": {
      "image/png": "[encoded data removed]",
      "text/plain": [
       "<Figure size 640x480 with 1 Axes>"
      ]
     },
     "metadata": {},
     "output_type": "display_data"
    }
   ],
   "source": [
    "histplot_ratings = sns.histplot(df['stars'], bins=30)\n",
    "histplot_ratings\n",
    "     "
   ]
  },
  {
   "cell_type": "code",
   "execution_count": null,
   "id": "d194ab34-8555-48fb-9844-24a039be1e04",
   "metadata": {},
   "outputs": [],
   "source": []
  }
 ],
 "metadata": {
  "kernelspec": {
   "display_name": "Python 3 (ipykernel)",
   "language": "python",
   "name": "python3"
  },
  "language_info": {
   "codemirror_mode": {
    "name": "ipython",
    "version": 3
   },
   "file_extension": ".py",
   "mimetype": "text/x-python",
   "name": "python",
   "nbconvert_exporter": "python",
   "pygments_lexer": "ipython3",
   "version": "3.11.7"
  }
 },
 "nbformat": 4,
 "nbformat_minor": 5
}
